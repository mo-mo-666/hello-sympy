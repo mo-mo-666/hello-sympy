{
 "cells": [
  {
   "cell_type": "code",
   "execution_count": 1,
   "metadata": {},
   "outputs": [],
   "source": [
    "import cmath\n",
    "import itertools\n",
    "import matplotlib.pyplot as plt\n",
    "import seaborn as sns\n",
    "\n",
    "%matplotlib inline"
   ]
  },
  {
   "cell_type": "code",
   "execution_count": 2,
   "metadata": {},
   "outputs": [],
   "source": [
    "vecs = [cmath.exp(2 * cmath.pi * i / 6 * 1j) for i in range(6)]"
   ]
  },
  {
   "cell_type": "code",
   "execution_count": 3,
   "metadata": {},
   "outputs": [
    {
     "data": {
      "image/png": "[encoded data removed]",
      "text/plain": [
       "<Figure size 432x288 with 1 Axes>"
      ]
     },
     "metadata": {
      "needs_background": "light"
     },
     "output_type": "display_data"
    }
   ],
   "source": [
    "vs = [v1 + v2 for v1, v2 in itertools.combinations_with_replacement(vecs, 2)]\n",
    "vsr = [v.real for v in vs]\n",
    "vsi = [v.imag for v in vs]\n",
    "\n",
    "plt.axes().set_aspect('equal')\n",
    "plt.scatter(vsr, vsi, alpha=0.3, color='red')\n",
    "plt.show()"
   ]
  },
  {
   "cell_type": "code",
   "execution_count": 4,
   "metadata": {},
   "outputs": [
    {
     "data": {
      "image/png": "[encoded data removed]",
      "text/plain": [
       "<Figure size 432x288 with 1 Axes>"
      ]
     },
     "metadata": {
      "needs_background": "light"
     },
     "output_type": "display_data"
    }
   ],
   "source": [
    "vs2 = [sum(s) for s in itertools.combinations_with_replacement(vecs, 3)]\n",
    "vs2r = [v.real for v in vs2]\n",
    "vs2i = [v.imag for v in vs2]\n",
    "\n",
    "plt.axes().set_aspect('equal')\n",
    "plt.scatter(vs2r, vs2i, alpha=0.3, color='red')\n",
    "plt.show()"
   ]
  },
  {
   "cell_type": "code",
   "execution_count": 5,
   "metadata": {},
   "outputs": [],
   "source": [
    "from sympy import *\n",
    "x, y, z, t = symbols('x y z t')\n",
    "k, m, n = symbols('k m n', integer=True, positive=True)\n",
    "f, g, h = symbols('f g h', cls=Function)"
   ]
  },
  {
   "cell_type": "code",
   "execution_count": 6,
   "metadata": {},
   "outputs": [
    {
     "data": {
      "text/latex": [
       "$\\displaystyle \\frac{\\left(\\frac{2}{3}\\right)^{k - 3} {\\binom{k - 1}{2}}}{27}$"
      ],
      "text/plain": [
       "(2/3)**(k - 3)*binomial(k - 1, 2)/27"
      ]
     },
     "execution_count": 6,
     "metadata": {},
     "output_type": "execute_result"
    }
   ],
   "source": [
    "f = binomial(k-1, 2) * (Rational(2, 3))**(k-3) * (Rational(1, 3))**3\n",
    "f"
   ]
  },
  {
   "cell_type": "code",
   "execution_count": 7,
   "metadata": {},
   "outputs": [
    {
     "data": {
      "text/latex": [
       "$\\displaystyle 2^{k - 4} \\cdot 3^{- k} \\left(k - 2\\right) \\left(k - 1\\right)$"
      ],
      "text/plain": [
       "2**(k - 4)*3**(-k)*(k - 2)*(k - 1)"
      ]
     },
     "execution_count": 7,
     "metadata": {},
     "output_type": "execute_result"
    }
   ],
   "source": [
    "f = simplify(f)\n",
    "f"
   ]
  },
  {
   "cell_type": "code",
   "execution_count": 8,
   "metadata": {},
   "outputs": [
    {
     "data": {
      "text/latex": [
       "$\\displaystyle \\frac{2 k}{3 \\left(k - 2\\right)}$"
      ],
      "text/plain": [
       "2*k/(3*(k - 2))"
      ]
     },
     "execution_count": 8,
     "metadata": {},
     "output_type": "execute_result"
    }
   ],
   "source": [
    "g = simplify(f.subs([(k, k+1)]) / f)\n",
    "g"
   ]
  },
  {
   "cell_type": "code",
   "execution_count": 9,
   "metadata": {},
   "outputs": [
    {
     "name": "stdout",
     "output_type": "stream",
     "text": [
      "3: 0.0370370370370370\n",
      "4: 0.0740740740740741\n",
      "5: 0.0987654320987654\n",
      "6: 0.109739368998628\n",
      "7: 0.109739368998628\n",
      "8: 0.102423411065386\n",
      "9: 0.0910430320581212\n",
      "10: 0.0780368846212468\n",
      "11: 0.0650307371843723\n"
     ]
    },
    {
     "data": {
      "text/latex": [
       "$\\displaystyle \\frac{1}{27}$"
      ],
      "text/plain": [
       "1/27"
      ]
     },
     "metadata": {},
     "output_type": "display_data"
    },
    {
     "data": {
      "text/latex": [
       "$\\displaystyle \\frac{2}{27}$"
      ],
      "text/plain": [
       "2/27"
      ]
     },
     "metadata": {},
     "output_type": "display_data"
    },
    {
     "data": {
      "text/latex": [
       "$\\displaystyle \\frac{8}{81}$"
      ],
      "text/plain": [
       "8/81"
      ]
     },
     "metadata": {},
     "output_type": "display_data"
    },
    {
     "data": {
      "text/latex": [
       "$\\displaystyle \\frac{80}{729}$"
      ],
      "text/plain": [
       "80/729"
      ]
     },
     "metadata": {},
     "output_type": "display_data"
    },
    {
     "data": {
      "text/latex": [
       "$\\displaystyle \\frac{80}{729}$"
      ],
      "text/plain": [
       "80/729"
      ]
     },
     "metadata": {},
     "output_type": "display_data"
    },
    {
     "data": {
      "text/latex": [
       "$\\displaystyle \\frac{224}{2187}$"
      ],
      "text/plain": [
       "224/2187"
      ]
     },
     "metadata": {},
     "output_type": "display_data"
    },
    {
     "data": {
      "text/latex": [
       "$\\displaystyle \\frac{1792}{19683}$"
      ],
      "text/plain": [
       "1792/19683"
      ]
     },
     "metadata": {},
     "output_type": "display_data"
    },
    {
     "data": {
      "text/latex": [
       "$\\displaystyle \\frac{512}{6561}$"
      ],
      "text/plain": [
       "512/6561"
      ]
     },
     "metadata": {},
     "output_type": "display_data"
    },
    {
     "data": {
      "text/latex": [
       "$\\displaystyle \\frac{1280}{19683}$"
      ],
      "text/plain": [
       "1280/19683"
      ]
     },
     "metadata": {},
     "output_type": "display_data"
    }
   ],
   "source": [
    "for i in range(3, 12):\n",
    "    print(f'{i}: {f.subs([(k, i)]).evalf()}')\n",
    "\n",
    "for i in range(3, 12):\n",
    "    display(f.subs([(k, i)]))"
   ]
  },
  {
   "cell_type": "code",
   "execution_count": 17,
   "metadata": {},
   "outputs": [
    {
     "data": {
      "text/latex": [
       "$\\displaystyle \\frac{24 {\\left(n - 4\\right)}_{\\left(k - 3\\right)} {\\binom{k - 1}{2}}}{{\\left(n\\right)}_{k}}$"
      ],
      "text/plain": [
       "24*FallingFactorial(n - 4, k - 3)*binomial(k - 1, 2)/FallingFactorial(n, k)"
      ]
     },
     "execution_count": 17,
     "metadata": {},
     "output_type": "execute_result"
    }
   ],
   "source": [
    "f = (ff(4, 3) * ff(n-4, k-3) * binomial(k-1, 2)) / ff(n, k)\n",
    "f"
   ]
  },
  {
   "cell_type": "code",
   "execution_count": 18,
   "metadata": {},
   "outputs": [
    {
     "data": {
      "text/latex": [
       "$\\displaystyle - \\frac{12 \\left(k - 2\\right) \\left(k - 1\\right) \\left(k - n\\right)}{n \\left(n - 3\\right) \\left(n - 2\\right) \\left(n - 1\\right)}$"
      ],
      "text/plain": [
       "-12*(k - 2)*(k - 1)*(k - n)/(n*(n - 3)*(n - 2)*(n - 1))"
      ]
     },
     "execution_count": 18,
     "metadata": {},
     "output_type": "execute_result"
    }
   ],
   "source": [
    "f = simplify(f)\n",
    "f"
   ]
  },
  {
   "cell_type": "code",
   "execution_count": 19,
   "metadata": {},
   "outputs": [
    {
     "data": {
      "text/latex": [
       "$\\displaystyle \\frac{k \\left(k - n + 1\\right)}{\\left(k - 2\\right) \\left(k - n\\right)}$"
      ],
      "text/plain": [
       "k*(k - n + 1)/((k - 2)*(k - n))"
      ]
     },
     "execution_count": 19,
     "metadata": {},
     "output_type": "execute_result"
    }
   ],
   "source": [
    "g = simplify(f.subs([(k, k+1)]) / f)\n",
    "g"
   ]
  },
  {
   "cell_type": "code",
   "execution_count": 20,
   "metadata": {},
   "outputs": [
    {
     "data": {
      "text/plain": [
       "[2*n/3]"
      ]
     },
     "execution_count": 20,
     "metadata": {},
     "output_type": "execute_result"
    }
   ],
   "source": [
    "h = g - 1\n",
    "solve(h, k)"
   ]
  },
  {
   "cell_type": "code",
   "execution_count": 21,
   "metadata": {},
   "outputs": [
    {
     "data": {
      "text/latex": [
       "$\\displaystyle - \\frac{24 \\left(3 - n\\right)}{n \\left(n - 3\\right) \\left(n - 2\\right) \\left(n - 1\\right)}$"
      ],
      "text/plain": [
       "-24*(3 - n)/(n*(n - 3)*(n - 2)*(n - 1))"
      ]
     },
     "execution_count": 21,
     "metadata": {},
     "output_type": "execute_result"
    }
   ],
   "source": [
    "f.subs([(k, 3)])"
   ]
  },
  {
   "cell_type": "code",
   "execution_count": 22,
   "metadata": {},
   "outputs": [
    {
     "data": {
      "text/latex": [
       "$\\displaystyle \\frac{12}{n \\left(n - 1\\right)}$"
      ],
      "text/plain": [
       "12/(n*(n - 1))"
      ]
     },
     "execution_count": 22,
     "metadata": {},
     "output_type": "execute_result"
    }
   ],
   "source": [
    "f.subs([(k, n-1)])"
   ]
  },
  {
   "cell_type": "code",
   "execution_count": 23,
   "metadata": {},
   "outputs": [
    {
     "data": {
      "text/latex": [
       "$\\displaystyle \\frac{12 \\left(n - 4\\right)}{n \\left(n - 2\\right) \\left(n - 1\\right)}$"
      ],
      "text/plain": [
       "12*(n - 4)/(n*(n - 2)*(n - 1))"
      ]
     },
     "execution_count": 23,
     "metadata": {},
     "output_type": "execute_result"
    }
   ],
   "source": [
    "simplify(f.subs([(k, n-1)]) - f.subs([(k, 3)]))"
   ]
  },
  {
   "cell_type": "code",
   "execution_count": null,
   "metadata": {},
   "outputs": [],
   "source": []
  },
  {
   "cell_type": "code",
   "execution_count": null,
   "metadata": {},
   "outputs": [],
   "source": []
  }
 ],
 "metadata": {
  "kernelspec": {
   "display_name": "Python 3",
   "language": "python",
   "name": "python3"
  },
  "language_info": {
   "codemirror_mode": {
    "name": "ipython",
    "version": 3
   },
   "file_extension": ".py",
   "mimetype": "text/x-python",
   "name": "python",
   "nbconvert_exporter": "python",
   "pygments_lexer": "ipython3",
   "version": "3.7.3"
  }
 },
 "nbformat": 4,
 "nbformat_minor": 2
}
